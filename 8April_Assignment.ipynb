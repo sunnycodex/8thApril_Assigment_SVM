{
 "cells": [
  {
   "cell_type": "markdown",
   "id": "6cc16fd3-d17f-4db7-aa0f-2d52507447ed",
   "metadata": {},
   "source": [
    "Q1. In order to predict house price based on several characteristics, such as location, square footage, number of bedrooms, etc., you are developing an SVM regression model. Which regression metric in this situation would be the best to employ?\n",
    "--\n",
    "---\n",
    "\n",
    "\n",
    "The best regression metric to use for an SVM regression model to predict house prices based on several characteristics, such as area_type, availability, location, square footage, society, bath, balcony, and number of bedrooms, is **root mean squared error (RMSE)**.\n",
    "\n",
    "RMSE is a metric that measures the average squared difference between the actual and predicted values. It is calculated as follows:\n",
    "\n",
    "```\n",
    "RMSE = sqrt(mean((y_true - y_pred)**2))\n",
    "```\n",
    "\n",
    "where:\n",
    "\n",
    "* `y_true` is the actual value\n",
    "* `y_pred` is the predicted value\n",
    "\n",
    "RMSE is a good metric to use for this problem because it is sensitive to outliers and large errors. This is important because house prices can vary widely depending on a number of factors, such as location and condition."
   ]
  },
  {
   "cell_type": "markdown",
   "id": "d08c93ec-2492-466e-927c-d09681e7077b",
   "metadata": {},
   "source": [
    "Q2. You have built an SVM regression model and are trying to decide between using MSE or R-squared as your evaluation metric. Which metric would be more appropriate if your goal is to predict the actual price of a house as accurately as possible?\n",
    "--\n",
    "---\n",
    "\n",
    "MSE is a better metric for evaluating the accuracy of your predictions because it is sensitive to outliers. This is important because house prices can vary widely depending on a number of factors, such as location and condition.\n",
    "\n",
    "R-squared is not as sensitive to outliers as MSE, so it can be misleading if there are a few outlier houses in your data."
   ]
  },
  {
   "cell_type": "markdown",
   "id": "bec48326-83ab-4aa8-8c8d-eff5efcf3c1c",
   "metadata": {},
   "source": [
    "Q3. You have a dataset with a significant number of outliers and are trying to select an appropriate regression metric to use with your SVM model. Which metric would be the most appropriate in this scenario?\n",
    "--\n",
    "---\n",
    "In the presence of outliers, MAE provides a more reliable assessment of the model's performance as it is less affected by extreme values. MSE and RMSE, while useful in other contexts, can be misleading when outliers are present.\n",
    "\n",
    "Therefore, when dealing with a dataset containing a significant number of outliers, MAE is the most appropriate regression metric to use with your SVM model."
   ]
  },
  {
   "cell_type": "markdown",
   "id": "3ce1a555-970f-451b-90a1-571f33ea23ba",
   "metadata": {},
   "source": [
    "Q4.You have built an SVM regression model using a polynomial kernel and are trying to select the best metric to evaluate its performance. You have calculated both MSE and RMSE and found that both values are very close. Which metric should you choose to use in this case?\n",
    "--\n",
    "---\n",
    "Since RMSE is just the square root of MSE, the two metrics are very similar. In general, RMSE is considered to be a better metric for regression problems because it is more interpretable. RMSE is measured in the same units as the target variable, which makes it easier to understand how accurate the predictions are."
   ]
  },
  {
   "cell_type": "markdown",
   "id": "39178183-8373-4174-a64e-2d8b404dac06",
   "metadata": {},
   "source": [
    "Q5. You are comparing the performance of different SVM regression models using different kernels (linear, polynomial, and RBF) and are trying to select the best evaluation metric. Which metric would be most appropriate if your goal is to measure how well the model explains the variance in the target variable?\n",
    "--\n",
    "---\n",
    "R-squared is a good metric to use to compare the performance of different SVM regression models because it is independent of the kernel used. This means that you can compare the R-squared values of models with different kernels to see which model explains the variance in the target variable bette"
   ]
  },
  {
   "cell_type": "code",
   "execution_count": null,
   "id": "3da80986-70bb-40a0-9b39-3fa64b8a48b4",
   "metadata": {},
   "outputs": [],
   "source": []
  }
 ],
 "metadata": {
  "kernelspec": {
   "display_name": "Python 3 (ipykernel)",
   "language": "python",
   "name": "python3"
  },
  "language_info": {
   "codemirror_mode": {
    "name": "ipython",
    "version": 3
   },
   "file_extension": ".py",
   "mimetype": "text/x-python",
   "name": "python",
   "nbconvert_exporter": "python",
   "pygments_lexer": "ipython3",
   "version": "3.10.8"
  }
 },
 "nbformat": 4,
 "nbformat_minor": 5
}
